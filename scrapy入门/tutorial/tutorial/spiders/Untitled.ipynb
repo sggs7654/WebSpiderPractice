{
 "cells": [
  {
   "cell_type": "code",
   "execution_count": null,
   "metadata": {},
   "outputs": [],
   "source": [
    "# -*- coding: utf-8 -*-\n",
    "import scrapy\n",
    "\n",
    "\n",
    "class QuotesSpider(scrapy.Spider):  # 自定义的spider类必须继承scrapy.Spider类\n",
    "    name = 'quotes'  # 必须属性：用来区分不同的spider\n",
    "    allowed_domains = ['quotes.toscrape.com']  # 允许爬取的域名，如果初始或后续的请求链接不是这个域名下的，则会被过滤\n",
    "    start_urls = ['http://quotes.toscrape.com/']  # 定义初始请求列表\n",
    "\n",
    "    def parse(self, response):  # 参数为Downloader返回的响应，这个函数负责解析返回的响应，提取数据或进一步处理要生成的请求\n",
    "        pass"
   ]
  }
 ],
 "metadata": {
  "kernelspec": {
   "display_name": "Python 3",
   "language": "python",
   "name": "python3"
  },
  "language_info": {
   "codemirror_mode": {
    "name": "ipython",
    "version": 3
   },
   "file_extension": ".py",
   "mimetype": "text/x-python",
   "name": "python",
   "nbconvert_exporter": "python",
   "pygments_lexer": "ipython3",
   "version": "3.7.3"
  }
 },
 "nbformat": 4,
 "nbformat_minor": 2
}
