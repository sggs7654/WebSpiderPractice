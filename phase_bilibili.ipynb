{
 "cells": [
  {
   "cell_type": "code",
   "execution_count": 25,
   "metadata": {},
   "outputs": [
    {
     "name": "stdout",
     "output_type": "stream",
     "text": [
      "www.bilibili.com/video/av50193111\n",
      "www.bilibili.com/video/av52151527\n",
      "www.bilibili.com/video/av46124623\n",
      "www.bilibili.com/video/av49386585\n",
      "www.bilibili.com/video/av22993885\n",
      "www.bilibili.com/video/av30075729\n",
      "www.bilibili.com/video/av48106475\n",
      "www.bilibili.com/video/av15572523\n",
      "www.bilibili.com/video/av42463258\n",
      "www.bilibili.com/video/av48835594\n",
      "www.bilibili.com/video/av52991061\n",
      "www.bilibili.com/video/av24073635\n",
      "www.bilibili.com/video/av13886606\n",
      "www.bilibili.com/video/av47167171\n",
      "www.bilibili.com/video/av53539693\n"
     ]
    }
   ],
   "source": [
    "file = 'D:/b/1.txt'\n",
    "with open(file, 'r',encoding=\"utf-8\") as html_file:\n",
    "    data = html_file.read()\n",
    "    from scrapy.selector import Selector\n",
    "    s = Selector(text=data)\n",
    "    items = s.xpath(\"//li[@class='small-item']\")\n",
    "    for i in items:\n",
    "        href = i.xpath(\".//a[@target='_blank']/@href\").re(r'//(.*)')[0]\n",
    "        print(href)"
   ]
  },
  {
   "cell_type": "code",
   "execution_count": null,
   "metadata": {},
   "outputs": [],
   "source": []
  }
 ],
 "metadata": {
  "kernelspec": {
   "display_name": "Python 3",
   "language": "python",
   "name": "python3"
  },
  "language_info": {
   "codemirror_mode": {
    "name": "ipython",
    "version": 3
   },
   "file_extension": ".py",
   "mimetype": "text/x-python",
   "name": "python",
   "nbconvert_exporter": "python",
   "pygments_lexer": "ipython3",
   "version": "3.7.3"
  }
 },
 "nbformat": 4,
 "nbformat_minor": 2
}
