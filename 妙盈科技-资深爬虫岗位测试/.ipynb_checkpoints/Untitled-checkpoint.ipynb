{
 "cells": [
  {
   "cell_type": "code",
   "execution_count": 5,
   "metadata": {},
   "outputs": [
    {
     "name": "stdout",
     "output_type": "stream",
     "text": [
      "[{'name': 'acw_tc', 'value': '7b39758315602939063565882eb3591832a65cd647bdbc1370f42fd2d55c29', 'path': '/', 'domain': 'www.ipe.org.cn', 'secure': False, 'httpOnly': True, 'expiry': 1562972309}, {'name': 'SERVERID', 'value': '63ce6a224eb1e4e64c95f4d7b348be8a|1560293907|1560293906', 'path': '/', 'domain': 'www.ipe.org.cn', 'secure': False, 'httpOnly': False}, {'name': '__utmc', 'value': '105455707', 'path': '/', 'domain': '.ipe.org.cn', 'secure': False, 'httpOnly': False}, {'name': '__utmt', 'value': '1', 'path': '/', 'domain': '.ipe.org.cn', 'secure': False, 'httpOnly': False, 'expiry': 1560294508}, {'name': '__utma', 'value': '105455707.277021182.1560293909.1560293909.1560293909.1', 'path': '/', 'domain': '.ipe.org.cn', 'secure': False, 'httpOnly': False, 'expiry': 1623365909}, {'name': '__utmb', 'value': '105455707.1.10.1560293909', 'path': '/', 'domain': '.ipe.org.cn', 'secure': False, 'httpOnly': False, 'expiry': 1560295709}, {'name': '__utmz', 'value': '105455707.1560293909.1.1.utmcsr=(direct)|utmccn=(direct)|utmcmd=(none)', 'path': '/', 'domain': '.ipe.org.cn', 'secure': False, 'httpOnly': False, 'expiry': 1576061909}]\n",
      "[{'name': 'acw_tc', 'value': '7b39758315602939063565882eb3591832a65cd647bdbc1370f42fd2d55c29', 'path': '/', 'domain': 'www.ipe.org.cn', 'secure': False, 'httpOnly': True, 'expiry': 1562972309}, {'name': '__utmc', 'value': '105455707', 'path': '/', 'domain': '.ipe.org.cn', 'secure': False, 'httpOnly': False}, {'name': '__utmt', 'value': '1', 'path': '/', 'domain': '.ipe.org.cn', 'secure': False, 'httpOnly': False, 'expiry': 1560294508}, {'name': 'ASP.NET_SessionId', 'value': 'tllusxkosw1gllggs0yyf5kg', 'path': '/', 'domain': 'www.ipe.org.cn', 'secure': False, 'httpOnly': True}, {'name': '_dx_uzZo5y', 'value': '8ff894c3c460f59012ed3f7ad79e03efd1f768798728051fb027db2dff4ad23a61cd5a54', 'path': '/', 'domain': 'www.ipe.org.cn', 'secure': False, 'httpOnly': False, 'expiry': 1875653912}, {'name': '_dx_app_81e16deaf5fee41ed38834363824b3e3', 'value': '5d003216mOPzpXQOPsxPF7jmYacsYlRP5Z3tvlH1', 'path': '/', 'domain': 'www.ipe.org.cn', 'secure': False, 'httpOnly': False, 'expiry': 1875653912}, {'name': '_dx_captcha_vid', 'value': '87E3F2FB97AE448E88A5577E63A8483892546A95764FE19C37A219FE3113381F0E3BA4A528E1D57AC58A0043C824D156974F93825BF746CEF349E70E94DA7C4A96587E377BDBB1CBF4106FA38DE6D0B3', 'path': '/', 'domain': 'www.ipe.org.cn', 'secure': False, 'httpOnly': False, 'expiry': 1875653925}, {'name': '.ASPXAUTH', 'value': '2D2CE3C321CCF2822505B82815666302CED2ABA66115B61E39FD8930CDF3E283A481E9BA594258D9AA2D2E570D1E15ED893467EA1489618CEDEB702278C05C741C3B7E3530F52C8CE19B6F01D31B9C2DED8A758318FE9F121DCDD7CFD6572C071C1B7A32455F749529D1AB176FA12A0466FC43DDA55A1BE4943539A259A00761460F5C140DD6543C412F1E76DA0390EB4B9ECA61760ED8496E2BEF93', 'path': '/', 'domain': 'www.ipe.org.cn', 'secure': False, 'httpOnly': False, 'expiry': 1561503526}, {'name': 'ajaxkey', 'value': '3E0FAA74BD62B0530E81AAE52D4E3FF2A55DFFB36147166B', 'path': '/', 'domain': 'www.ipe.org.cn', 'secure': False, 'httpOnly': False}, {'name': 'SERVERID', 'value': '63ce6a224eb1e4e64c95f4d7b348be8a|1560293926|1560293906', 'path': '/', 'domain': 'www.ipe.org.cn', 'secure': False, 'httpOnly': False}, {'name': '__utma', 'value': '105455707.277021182.1560293909.1560293909.1560293909.1', 'path': '/', 'domain': '.ipe.org.cn', 'secure': False, 'httpOnly': False, 'expiry': 1623365928}, {'name': '__utmz', 'value': '105455707.1560293909.1.1.utmcsr=(direct)|utmccn=(direct)|utmcmd=(none)', 'path': '/', 'domain': '.ipe.org.cn', 'secure': False, 'httpOnly': False, 'expiry': 1576061928}, {'name': '__utmb', 'value': '105455707.3.10.1560293909', 'path': '/', 'domain': '.ipe.org.cn', 'secure': False, 'httpOnly': False, 'expiry': 1560295728}]\n"
     ]
    }
   ],
   "source": [
    "\"\"\"\n",
    "手动登录，保存Cookies\n",
    "\"\"\"\n",
    "\n",
    "def save_cookies(cookies):\n",
    "    with open(\"test.txt\",'w+') as fw:\n",
    "        fw.write(str(cookies))\n",
    "\n",
    "import selenium\n",
    "from selenium import webdriver\n",
    "import time\n",
    "\n",
    "options = webdriver.FirefoxOptions()\n",
    "options.headless = False\n",
    "browser = webdriver.Firefox(options=options)\n",
    "# browser = webdriver.Chrome()\n",
    "url = 'http://www.ipe.org.cn/IndustryRecord/Regulatory.html?keycode=4543j9f9ri334233r3rixxxyyo12'\n",
    "browser.get(url)\n",
    "\n",
    "cookies = browser.get_cookies()\n",
    "print(cookies)  # 打印初始Cookies\n",
    "time.sleep(30)  # 手动登录\n",
    "cookies = browser.get_cookies()\n",
    "print(cookies)  # 打印验证Cookies\n",
    "save_cookies(cookies)\n",
    "browser.quit()"
   ]
  },
  {
   "cell_type": "code",
   "execution_count": 34,
   "metadata": {},
   "outputs": [
    {
     "ename": "TypeError",
     "evalue": "data_loaded() takes 0 positional arguments but 1 was given",
     "output_type": "error",
     "traceback": [
      "\u001b[1;31m---------------------------------------------------------------------------\u001b[0m",
      "\u001b[1;31mTypeError\u001b[0m                                 Traceback (most recent call last)",
      "\u001b[1;32m<ipython-input-34-499cf9a66605>\u001b[0m in \u001b[0;36m<module>\u001b[1;34m\u001b[0m\n\u001b[0;32m     66\u001b[0m         \u001b[0mprint\u001b[0m\u001b[1;33m(\u001b[0m\u001b[1;34m'Load Success'\u001b[0m\u001b[1;33m)\u001b[0m\u001b[1;33m\u001b[0m\u001b[1;33m\u001b[0m\u001b[0m\n\u001b[0;32m     67\u001b[0m         \u001b[1;32mreturn\u001b[0m \u001b[1;32mTrue\u001b[0m\u001b[1;33m\u001b[0m\u001b[1;33m\u001b[0m\u001b[0m\n\u001b[1;32m---> 68\u001b[1;33m \u001b[0mWebDriverWait\u001b[0m\u001b[1;33m(\u001b[0m\u001b[0mbrowser\u001b[0m\u001b[1;33m,\u001b[0m \u001b[1;36m5\u001b[0m\u001b[1;33m,\u001b[0m \u001b[1;36m0.5\u001b[0m\u001b[1;33m)\u001b[0m\u001b[1;33m.\u001b[0m\u001b[0muntil\u001b[0m\u001b[1;33m(\u001b[0m\u001b[0mdata_loaded\u001b[0m\u001b[1;33m)\u001b[0m\u001b[1;33m\u001b[0m\u001b[1;33m\u001b[0m\u001b[0m\n\u001b[0m\u001b[0;32m     69\u001b[0m \u001b[1;33m\u001b[0m\u001b[0m\n\u001b[0;32m     70\u001b[0m \u001b[1;31m# companies = browser.find_elements_by_xpath(\"//div[@class='table-main']\")\u001b[0m\u001b[1;33m\u001b[0m\u001b[1;33m\u001b[0m\u001b[1;33m\u001b[0m\u001b[0m\n",
      "\u001b[1;32me:\\python\\python37-32\\lib\\site-packages\\selenium\\webdriver\\support\\wait.py\u001b[0m in \u001b[0;36muntil\u001b[1;34m(self, method, message)\u001b[0m\n\u001b[0;32m     69\u001b[0m         \u001b[1;32mwhile\u001b[0m \u001b[1;32mTrue\u001b[0m\u001b[1;33m:\u001b[0m\u001b[1;33m\u001b[0m\u001b[1;33m\u001b[0m\u001b[0m\n\u001b[0;32m     70\u001b[0m             \u001b[1;32mtry\u001b[0m\u001b[1;33m:\u001b[0m\u001b[1;33m\u001b[0m\u001b[1;33m\u001b[0m\u001b[0m\n\u001b[1;32m---> 71\u001b[1;33m                 \u001b[0mvalue\u001b[0m \u001b[1;33m=\u001b[0m \u001b[0mmethod\u001b[0m\u001b[1;33m(\u001b[0m\u001b[0mself\u001b[0m\u001b[1;33m.\u001b[0m\u001b[0m_driver\u001b[0m\u001b[1;33m)\u001b[0m\u001b[1;33m\u001b[0m\u001b[1;33m\u001b[0m\u001b[0m\n\u001b[0m\u001b[0;32m     72\u001b[0m                 \u001b[1;32mif\u001b[0m \u001b[0mvalue\u001b[0m\u001b[1;33m:\u001b[0m\u001b[1;33m\u001b[0m\u001b[1;33m\u001b[0m\u001b[0m\n\u001b[0;32m     73\u001b[0m                     \u001b[1;32mreturn\u001b[0m \u001b[0mvalue\u001b[0m\u001b[1;33m\u001b[0m\u001b[1;33m\u001b[0m\u001b[0m\n",
      "\u001b[1;31mTypeError\u001b[0m: data_loaded() takes 0 positional arguments but 1 was given"
     ]
    }
   ],
   "source": [
    "import selenium\n",
    "from selenium import webdriver\n",
    "from selenium.webdriver.support.wait import WebDriverWait\n",
    "from selenium.webdriver.support import expected_conditions as EC\n",
    "from selenium.webdriver.support.select import Select\n",
    "from selenium.common.exceptions import TimeoutException, NoSuchElementException, ElementNotInteractableException, ElementClickInterceptedException\n",
    "import time\n",
    "\n",
    "def load_cookies():\n",
    "    with open(\"test.txt\",'r+') as fr:\n",
    "        cookies = eval(fr.read())\n",
    "    return cookies\n",
    "\n",
    "def fast_get(browser,url):\n",
    "    try:\n",
    "        browser.get(url)\n",
    "    except TimeoutException as e:\n",
    "        return\n",
    "\n",
    "def auto_click(get_fun, clue):\n",
    "    try:\n",
    "        button = get_fun(clue)\n",
    "        button.click()\n",
    "    except ElementNotInteractableException as e:\n",
    "        time.sleep(0.5)\n",
    "        auto_click(get_fun, clue)\n",
    "    except (NoSuchElementException, ElementClickInterceptedException, RecursionError):\n",
    "        pass\n",
    "    return\n",
    "\n",
    "options = webdriver.FirefoxOptions()\n",
    "options.headless = False\n",
    "browser = webdriver.Firefox(options=options)\n",
    "browser.set_page_load_timeout(2)\n",
    "url = 'http://www.ipe.org.cn/IndustryRecord/Regulatory.html?keycode=4543j9f9ri334233r3rixxxyyo12'\n",
    "\"\"\"\n",
    "覆盖Cookies\n",
    "\"\"\"\n",
    "fast_get(browser, \"http://www.ipe.org.cn/\")\n",
    "browser.delete_all_cookies()\n",
    "c = load_cookies()\n",
    "for i in c:\n",
    "    browser.add_cookie(i)\n",
    "fast_get(browser, url)\n",
    "\n",
    "\"\"\"\n",
    "选项框遍历\n",
    "\"\"\"\n",
    "browser.find_element_by_xpath(\"//a[@id='scree_btn']\").click() # 展开条件筛选\n",
    "time.sleep(0.5)\n",
    "Select(browser.find_element_by_xpath(\"//select[@class='select select-small']\")).select_by_index(\"2\")  # 更改每页显示数量为50\n",
    "browser.find_element_by_xpath(\"//span[contains(text(), '无不良记录')]\").click()  # 条件筛选：有不良记录\n",
    "Select(browser.find_element_by_xpath(\"//select[@id='country_0']\")).select_by_index(\"3\")  # 条件筛选：国家列表\n",
    "browser.find_element_by_xpath(\"//input[@class='btn submit-btn float-end']\").click()  # 点击筛选按钮\n",
    "# 【判断元素加载】\n",
    "# time.sleep(3)\n",
    "# browser.find_element_by_xpath(\"//p[@id='industry_id']/span[contains(text(), '(加载中...)')]\")\n",
    "\n",
    "# 【自定义的判断数据加载状态的方法】\n",
    "def data_loaded():\n",
    "    try:\n",
    "        browser.find_element_by_xpath(\"//p[@id='industry_id']/span[contains(text(), '(加载中...)')]\")\n",
    "        print('Loading')\n",
    "        return False\n",
    "    except NoSuchElementException:\n",
    "        print('Load Success')\n",
    "        return True\n",
    "WebDriverWait(browser, 5, 0.5).until(data_loaded)\n",
    "\n",
    "# companies = browser.find_elements_by_xpath(\"//div[@class='table-main']\")\n",
    "# print(len(companies))\n",
    "# 【判断查询结果数量】\n"
   ]
  },
  {
   "cell_type": "code",
   "execution_count": null,
   "metadata": {},
   "outputs": [],
   "source": []
  }
 ],
 "metadata": {
  "kernelspec": {
   "display_name": "Python 3",
   "language": "python",
   "name": "python3"
  },
  "language_info": {
   "codemirror_mode": {
    "name": "ipython",
    "version": 3
   },
   "file_extension": ".py",
   "mimetype": "text/x-python",
   "name": "python",
   "nbconvert_exporter": "python",
   "pygments_lexer": "ipython3",
   "version": "3.7.3"
  }
 },
 "nbformat": 4,
 "nbformat_minor": 2
}
