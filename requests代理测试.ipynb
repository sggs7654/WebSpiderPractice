{
 "cells": [
  {
   "cell_type": "code",
   "execution_count": 5,
   "metadata": {},
   "outputs": [
    {
     "name": "stdout",
     "output_type": "stream",
     "text": [
      "Error (MaxRetryError(\"SOCKSHTTPConnectionPool(host='httpbin.org', port=80): Max retries exceeded with url: /get (Caused by NewConnectionError('<urllib3.contrib.socks.SOCKSConnection object at 0x06859CD0>: Failed to establish a new connection: [WinError 10060] 由于连接方在一段时间后没有正确答复或连接的主机没有反应，连接尝试失败。'))\"),)\n"
     ]
    }
   ],
   "source": [
    "import requests\n",
    "proxy = '122.91.37.213:6666'\n",
    "proxies = {\n",
    "    'http': 'socks5://' + proxy,\n",
    "    'https': 'socks5://' + proxy,\n",
    "}\n",
    "try:\n",
    "    response = requests.get('http://httpbin.org/get', proxies = proxies)\n",
    "#     response = requests.get('http://httpbin.org/get')\n",
    "    print(response.text)\n",
    "except requests.exceptions.ConnectionError as e:\n",
    "    print('Error', e.args)"
   ]
  },
  {
   "cell_type": "code",
   "execution_count": null,
   "metadata": {},
   "outputs": [],
   "source": []
  }
 ],
 "metadata": {
  "kernelspec": {
   "display_name": "Python 3",
   "language": "python",
   "name": "python3"
  },
  "language_info": {
   "codemirror_mode": {
    "name": "ipython",
    "version": 3
   },
   "file_extension": ".py",
   "mimetype": "text/x-python",
   "name": "python",
   "nbconvert_exporter": "python",
   "pygments_lexer": "ipython3",
   "version": "3.7.3"
  }
 },
 "nbformat": 4,
 "nbformat_minor": 2
}
